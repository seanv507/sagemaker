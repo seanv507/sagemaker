{
 "cells": [
  {
   "cell_type": "code",
   "execution_count": 1,
   "metadata": {},
   "outputs": [],
   "source": [
    "from sagemaker import get_execution_role\n",
    "role = get_execution_role()"
   ]
  },
  {
   "cell_type": "code",
   "execution_count": null,
   "metadata": {},
   "outputs": [],
   "source": [
    "bucket = 'sagemaker-seanv507' # Use the name of your s3 bucket here"
   ]
  },
  {
   "cell_type": "code",
   "execution_count": 2,
   "metadata": {},
   "outputs": [
    {
     "name": "stdout",
     "output_type": "stream",
     "text": [
      "CPU times: user 786 ms, sys: 316 ms, total: 1.1 s\n",
      "Wall time: 11.9 s\n"
     ]
    }
   ],
   "source": [
    "%%time\n",
    "import pickle, gzip, numpy, urllib.request, json\n",
    "\n",
    "# Load the dataset\n",
    "urllib.request.urlretrieve(\"http://deeplearning.net/data/mnist/mnist.pkl.gz\", \"mnist.pkl.gz\")\n",
    "with gzip.open('mnist.pkl.gz', 'rb') as f:\n",
    "    train_set, valid_set, test_set = pickle.load(f, encoding='latin1')"
   ]
  },
  {
   "cell_type": "code",
   "execution_count": 3,
   "metadata": {},
   "outputs": [
    {
     "data": {
      "image/png": "[encoded data removed]",
      "text/plain": [
       "<Figure size 144x720 with 1 Axes>"
      ]
     },
     "metadata": {},
     "output_type": "display_data"
    }
   ],
   "source": [
    "%matplotlib inline\n",
    "import matplotlib.pyplot as plt\n",
    "plt.rcParams[\"figure.figsize\"] = (2,10)\n",
    "\n",
    "\n",
    "def show_digit(img, caption='', subplot=None):\n",
    "    if subplot == None:\n",
    "        _, (subplot) = plt.subplots(1,1)\n",
    "    imgr = img.reshape((28,28))\n",
    "    subplot.axis('off')\n",
    "    subplot.imshow(imgr, cmap='gray')\n",
    "    plt.title(caption)\n",
    "\n",
    "show_digit(train_set[0][30], 'This is a {}'.format(train_set[1][30]))\n"
   ]
  },
  {
   "cell_type": "code",
   "execution_count": 7,
   "metadata": {},
   "outputs": [
    {
     "name": "stdout",
     "output_type": "stream",
     "text": [
      "CPU times: user 8.66 s, sys: 261 ms, total: 8.92 s\n",
      "Wall time: 10.5 s\n"
     ]
    }
   ],
   "source": [
    "%%time\n",
    "from sagemaker.amazon.common import write_numpy_to_dense_tensor\n",
    "import io\n",
    "import boto3\n",
    "\n",
    "\n",
    "data_key = 'kmeans_lowlevel_example/data'\n",
    "data_location = 's3://{}/{}'.format(bucket, data_key)\n",
    "\n",
    "\n",
    "# Convert the training data into the format required by the SageMaker KMeans algorithm\n",
    "buf = io.BytesIO()\n",
    "write_numpy_to_dense_tensor(buf, train_set[0], train_set[1])\n",
    "buf.seek(0)\n",
    "\n",
    "boto3.resource('s3').Bucket(bucket).Object(data_key).upload_fileobj(buf)"
   ]
  },
  {
   "cell_type": "code",
   "execution_count": 9,
   "metadata": {},
   "outputs": [
    {
     "name": "stdout",
     "output_type": "stream",
     "text": [
      "CPU times: user 1.76 s, sys: 22.7 ms, total: 1.78 s\n",
      "Wall time: 2.2 s\n"
     ]
    }
   ],
   "source": [
    "%%time\n",
    "from sagemaker.amazon.common import write_numpy_to_dense_tensor\n",
    "import io\n",
    "import boto3\n",
    "\n",
    "\n",
    "data_key = 'kmeans_lowlevel_example/data-test'\n",
    "data_location = 's3://{}/{}'.format(bucket, data_key)\n",
    "\n",
    "\n",
    "# Convert the training data into the format required by the SageMaker KMeans algorithm\n",
    "buf = io.BytesIO()\n",
    "write_numpy_to_dense_tensor(buf, test_set[0], test_set[1])\n",
    "buf.seek(0)\n",
    "\n",
    "boto3.resource('s3').Bucket(bucket).Object(data_key).upload_fileobj(buf)"
   ]
  },
  {
   "cell_type": "markdown",
   "metadata": {},
   "source": [
    "## High level"
   ]
  },
  {
   "cell_type": "code",
   "execution_count": null,
   "metadata": {},
   "outputs": [],
   "source": [
    "from sagemaker import KMeans\n",
    "\n",
    "data_location = 's3://{}/kmeans_highlevel_example/data'.format(bucket)\n",
    "output_location = 's3://{}/kmeans_highlevel_example/output'.format(bucket)\n",
    "\n",
    "# print('training data will be uploaded to: {}'.format(data_location))\n",
    "# print('training artifacts will be uploaded to: {}'.format(output_location))\n",
    "\n",
    "kmeans = KMeans(role=role,\n",
    "                train_instance_count=2,\n",
    "                train_instance_type='ml.c4.8xlarge',\n",
    "                output_path=output_location,\n",
    "                k=10,\n",
    "                data_location=data_location)"
   ]
  },
  {
   "cell_type": "code",
   "execution_count": null,
   "metadata": {},
   "outputs": [],
   "source": [
    "%%time\n",
    "\n",
    "kmeans.fit(kmeans.record_set(train_set[0]))"
   ]
  },
  {
   "cell_type": "markdown",
   "metadata": {},
   "source": [
    "## Low level"
   ]
  },
  {
   "cell_type": "code",
   "execution_count": 8,
   "metadata": {},
   "outputs": [
    {
     "name": "stdout",
     "output_type": "stream",
     "text": [
      "Training job kmeans-lowlevel-2018-12-20-18-40-56\n",
      "InProgress\n",
      "Training job ended with status: Completed\n",
      "CPU times: user 75.7 ms, sys: 8.33 ms, total: 84 ms\n",
      "Wall time: 4min\n"
     ]
    }
   ],
   "source": [
    "%%time\n",
    "import boto3\n",
    "from time import gmtime, strftime\n",
    "\n",
    "job_name = 'kmeans-lowlevel-' + strftime(\"%Y-%m-%d-%H-%M-%S\", gmtime())\n",
    "print(\"Training job\", job_name)\n",
    "\n",
    "from sagemaker.amazon.amazon_estimator import get_image_uri\n",
    "image = get_image_uri(boto3.Session().region_name, 'kmeans')\n",
    "\n",
    "output_location = 's3://{}/kmeans_lowlevel_example/output'.format(bucket)\n",
    "# print('training artifacts will be uploaded to: {}'.format(output_location))\n",
    "\n",
    "create_training_params = \\\n",
    "{\n",
    "    \"AlgorithmSpecification\": {\n",
    "        \"TrainingImage\": image,\n",
    "        \"TrainingInputMode\": \"File\"\n",
    "    },\n",
    "    \"RoleArn\": role,\n",
    "    \"OutputDataConfig\": {\n",
    "        \"S3OutputPath\": output_location\n",
    "    },\n",
    "    \"ResourceConfig\": {\n",
    "        \"InstanceCount\": 2,\n",
    "        \"InstanceType\": \"ml.c4.8xlarge\",\n",
    "        \"VolumeSizeInGB\": 50\n",
    "    },\n",
    "    \"TrainingJobName\": job_name,\n",
    "    \"HyperParameters\": {\n",
    "        \"k\": \"10\",\n",
    "        \"feature_dim\": \"784\",\n",
    "        \"mini_batch_size\": \"500\"\n",
    "    },\n",
    "    \"StoppingCondition\": {\n",
    "        \"MaxRuntimeInSeconds\": 60 * 60\n",
    "    },\n",
    "    \"InputDataConfig\": [\n",
    "        {\n",
    "            \"ChannelName\": \"train\",\n",
    "            \"DataSource\": {\n",
    "                \"S3DataSource\": {\n",
    "                    \"S3DataType\": \"S3Prefix\",\n",
    "                    \"S3Uri\": data_location,\n",
    "                    \"S3DataDistributionType\": \"FullyReplicated\"\n",
    "                }\n",
    "            },\n",
    "            \"CompressionType\": \"None\",\n",
    "            \"RecordWrapperType\": \"None\"\n",
    "        }\n",
    "    ]\n",
    "}\n",
    "\n",
    "\n",
    "sagemaker = boto3.client('sagemaker')\n",
    "\n",
    "sagemaker.create_training_job(**create_training_params)\n",
    "\n",
    "status = sagemaker.describe_training_job(TrainingJobName=job_name)['TrainingJobStatus']\n",
    "print(status)\n",
    "\n",
    "try:\n",
    "    sagemaker.get_waiter('training_job_completed_or_stopped').wait(TrainingJobName=job_name)\n",
    "finally:\n",
    "    status = sagemaker.describe_training_job(TrainingJobName=job_name)['TrainingJobStatus']\n",
    "    print(\"Training job ended with status: \" + status)\n",
    "    if status == 'Failed':\n",
    "        message = sagemaker.describe_training_job(TrainingJobName=job_name)['FailureReason']\n",
    "        print('Training failed with the following error: {}'.format(message))\n",
    "        raise Exception('Training job failed')\n"
   ]
  },
  {
   "cell_type": "code",
   "execution_count": null,
   "metadata": {},
   "outputs": [],
   "source": [
    "\n",
    "import boto3\n",
    "import sagemaker\n",
    "import json\n",
    "\n",
    "input_key = 'kmeans_batch_example/input/valid-data.csv'\n",
    "output_key = 'kmeans_batch_example/output/valid-data.csv.out'\n",
    "input_location = 's3://{}/{}'.format(bucket, input_key)\n",
    "output_location = 's3://{}/kmeans_batch_example/output'.format(bucket)\n",
    "\n",
    "### Convert the validation set numpy array to a csv file and upload to s3\n",
    "numpy.savetxt('valid-data.csv', valid_set[0], delimiter=',', fmt='%g')\n",
    "s3_client = boto3.client('s3')\n",
    "s3_client.upload_file('valid-data.csv', bucket, input_key)\n",
    "\n",
    "# Initialize the transformer object\n",
    "transformer =sagemaker.transformer.Transformer(\n",
    "    base_transform_job_name='Batch-Transform',\n",
    "    model_name=model_name,\n",
    "    instance_count=1,\n",
    "    instance_type='ml.c4.xlarge',\n",
    "    output_path=output_location\n",
    "    )\n",
    "# To start a transform job:\n",
    "transformer.transform(input_location, content_type='text/csv', split_type='Line')\n",
    "# Then wait until transform job is completed\n",
    "transformer.wait()\n",
    "\n",
    "# To fetch validation result \n",
    "s3_client.download_file(bucket, output_key, 'valid-result')\n",
    "with open('valid-result') as f:\n",
    "    results = f.readlines()   \n",
    "print(\"Sample transform result: {}\".format(results[0]))\n",
    "\n",
    "        "
   ]
  },
  {
   "cell_type": "code",
   "execution_count": 16,
   "metadata": {},
   "outputs": [
    {
     "data": {
      "text/plain": [
       "{'__name__': 'sagemaker',\n",
       " '__doc__': None,\n",
       " '__package__': 'sagemaker',\n",
       " '__loader__': <_frozen_importlib_external.SourceFileLoader at 0x7ffa042ddcc0>,\n",
       " '__spec__': ModuleSpec(name='sagemaker', loader=<_frozen_importlib_external.SourceFileLoader object at 0x7ffa042ddcc0>, origin='/home/ec2-user/anaconda3/envs/python3/lib/python3.6/site-packages/sagemaker/__init__.py', submodule_search_locations=['/home/ec2-user/anaconda3/envs/python3/lib/python3.6/site-packages/sagemaker']),\n",
       " '__path__': ['/home/ec2-user/anaconda3/envs/python3/lib/python3.6/site-packages/sagemaker'],\n",
       " '__file__': '/home/ec2-user/anaconda3/envs/python3/lib/python3.6/site-packages/sagemaker/__init__.py',\n",
       " '__cached__': '/home/ec2-user/anaconda3/envs/python3/lib/python3.6/site-packages/sagemaker/__pycache__/__init__.cpython-36.pyc',\n",
       " '__builtins__': {'__name__': 'builtins',\n",
       "  '__doc__': \"Built-in functions, exceptions, and other objects.\\n\\nNoteworthy: None is the `nil' object; Ellipsis represents `...' in slices.\",\n",
       "  '__package__': '',\n",
       "  '__loader__': _frozen_importlib.BuiltinImporter,\n",
       "  '__spec__': ModuleSpec(name='builtins', loader=<class '_frozen_importlib.BuiltinImporter'>),\n",
       "  '__build_class__': <function __build_class__>,\n",
       "  '__import__': <function __import__>,\n",
       "  'abs': <function abs(x, /)>,\n",
       "  'all': <function all(iterable, /)>,\n",
       "  'any': <function any(iterable, /)>,\n",
       "  'ascii': <function ascii(obj, /)>,\n",
       "  'bin': <function bin(number, /)>,\n",
       "  'callable': <function callable(obj, /)>,\n",
       "  'chr': <function chr(i, /)>,\n",
       "  'compile': <function compile(source, filename, mode, flags=0, dont_inherit=False, optimize=-1)>,\n",
       "  'delattr': <function delattr(obj, name, /)>,\n",
       "  'dir': <function dir>,\n",
       "  'divmod': <function divmod(x, y, /)>,\n",
       "  'eval': <function eval(source, globals=None, locals=None, /)>,\n",
       "  'exec': <function exec(source, globals=None, locals=None, /)>,\n",
       "  'format': <function format(value, format_spec='', /)>,\n",
       "  'getattr': <function getattr>,\n",
       "  'globals': <function globals()>,\n",
       "  'hasattr': <function hasattr(obj, name, /)>,\n",
       "  'hash': <function hash(obj, /)>,\n",
       "  'hex': <function hex(number, /)>,\n",
       "  'id': <function id(obj, /)>,\n",
       "  'input': <bound method Kernel.raw_input of <ipykernel.ipkernel.IPythonKernel object at 0x7ffa0749fc88>>,\n",
       "  'isinstance': <function isinstance(obj, class_or_tuple, /)>,\n",
       "  'issubclass': <function issubclass(cls, class_or_tuple, /)>,\n",
       "  'iter': <function iter>,\n",
       "  'len': <function len(obj, /)>,\n",
       "  'locals': <function locals()>,\n",
       "  'max': <function max>,\n",
       "  'min': <function min>,\n",
       "  'next': <function next>,\n",
       "  'oct': <function oct(number, /)>,\n",
       "  'ord': <function ord(c, /)>,\n",
       "  'pow': <function pow(x, y, z=None, /)>,\n",
       "  'print': <function print>,\n",
       "  'repr': <function repr(obj, /)>,\n",
       "  'round': <function round>,\n",
       "  'setattr': <function setattr(obj, name, value, /)>,\n",
       "  'sorted': <function sorted(iterable, /, *, key=None, reverse=False)>,\n",
       "  'sum': <function sum(iterable, start=0, /)>,\n",
       "  'vars': <function vars>,\n",
       "  'None': None,\n",
       "  'Ellipsis': Ellipsis,\n",
       "  'NotImplemented': NotImplemented,\n",
       "  'False': False,\n",
       "  'True': True,\n",
       "  'bool': bool,\n",
       "  'memoryview': memoryview,\n",
       "  'bytearray': bytearray,\n",
       "  'bytes': bytes,\n",
       "  'classmethod': classmethod,\n",
       "  'complex': complex,\n",
       "  'dict': dict,\n",
       "  'enumerate': enumerate,\n",
       "  'filter': filter,\n",
       "  'float': float,\n",
       "  'frozenset': frozenset,\n",
       "  'property': property,\n",
       "  'int': int,\n",
       "  'list': list,\n",
       "  'map': map,\n",
       "  'object': object,\n",
       "  'range': range,\n",
       "  'reversed': reversed,\n",
       "  'set': set,\n",
       "  'slice': slice,\n",
       "  'staticmethod': staticmethod,\n",
       "  'str': str,\n",
       "  'super': super,\n",
       "  'tuple': tuple,\n",
       "  'type': type,\n",
       "  'zip': zip,\n",
       "  '__debug__': True,\n",
       "  'BaseException': BaseException,\n",
       "  'Exception': Exception,\n",
       "  'TypeError': TypeError,\n",
       "  'StopAsyncIteration': StopAsyncIteration,\n",
       "  'StopIteration': StopIteration,\n",
       "  'GeneratorExit': GeneratorExit,\n",
       "  'SystemExit': SystemExit,\n",
       "  'KeyboardInterrupt': KeyboardInterrupt,\n",
       "  'ImportError': ImportError,\n",
       "  'ModuleNotFoundError': ModuleNotFoundError,\n",
       "  'OSError': OSError,\n",
       "  'EnvironmentError': OSError,\n",
       "  'IOError': OSError,\n",
       "  'EOFError': EOFError,\n",
       "  'RuntimeError': RuntimeError,\n",
       "  'RecursionError': RecursionError,\n",
       "  'NotImplementedError': NotImplementedError,\n",
       "  'NameError': NameError,\n",
       "  'UnboundLocalError': UnboundLocalError,\n",
       "  'AttributeError': AttributeError,\n",
       "  'SyntaxError': SyntaxError,\n",
       "  'IndentationError': IndentationError,\n",
       "  'TabError': TabError,\n",
       "  'LookupError': LookupError,\n",
       "  'IndexError': IndexError,\n",
       "  'KeyError': KeyError,\n",
       "  'ValueError': ValueError,\n",
       "  'UnicodeError': UnicodeError,\n",
       "  'UnicodeEncodeError': UnicodeEncodeError,\n",
       "  'UnicodeDecodeError': UnicodeDecodeError,\n",
       "  'UnicodeTranslateError': UnicodeTranslateError,\n",
       "  'AssertionError': AssertionError,\n",
       "  'ArithmeticError': ArithmeticError,\n",
       "  'FloatingPointError': FloatingPointError,\n",
       "  'OverflowError': OverflowError,\n",
       "  'ZeroDivisionError': ZeroDivisionError,\n",
       "  'SystemError': SystemError,\n",
       "  'ReferenceError': ReferenceError,\n",
       "  'BufferError': BufferError,\n",
       "  'MemoryError': MemoryError,\n",
       "  'Warning': Warning,\n",
       "  'UserWarning': UserWarning,\n",
       "  'DeprecationWarning': DeprecationWarning,\n",
       "  'PendingDeprecationWarning': PendingDeprecationWarning,\n",
       "  'SyntaxWarning': SyntaxWarning,\n",
       "  'RuntimeWarning': RuntimeWarning,\n",
       "  'FutureWarning': FutureWarning,\n",
       "  'ImportWarning': ImportWarning,\n",
       "  'UnicodeWarning': UnicodeWarning,\n",
       "  'BytesWarning': BytesWarning,\n",
       "  'ResourceWarning': ResourceWarning,\n",
       "  'ConnectionError': ConnectionError,\n",
       "  'BlockingIOError': BlockingIOError,\n",
       "  'BrokenPipeError': BrokenPipeError,\n",
       "  'ChildProcessError': ChildProcessError,\n",
       "  'ConnectionAbortedError': ConnectionAbortedError,\n",
       "  'ConnectionRefusedError': ConnectionRefusedError,\n",
       "  'ConnectionResetError': ConnectionResetError,\n",
       "  'FileExistsError': FileExistsError,\n",
       "  'FileNotFoundError': FileNotFoundError,\n",
       "  'IsADirectoryError': IsADirectoryError,\n",
       "  'NotADirectoryError': NotADirectoryError,\n",
       "  'InterruptedError': InterruptedError,\n",
       "  'PermissionError': PermissionError,\n",
       "  'ProcessLookupError': ProcessLookupError,\n",
       "  'TimeoutError': TimeoutError,\n",
       "  'open': <function io.open(file, mode='r', buffering=-1, encoding=None, errors=None, newline=None, closefd=True, opener=None)>,\n",
       "  'copyright': Copyright (c) 2001-2018 Python Software Foundation.\n",
       "  All Rights Reserved.\n",
       "  \n",
       "  Copyright (c) 2000 BeOpen.com.\n",
       "  All Rights Reserved.\n",
       "  \n",
       "  Copyright (c) 1995-2001 Corporation for National Research Initiatives.\n",
       "  All Rights Reserved.\n",
       "  \n",
       "  Copyright (c) 1991-1995 Stichting Mathematisch Centrum, Amsterdam.\n",
       "  All Rights Reserved.,\n",
       "  'credits':     Thanks to CWI, CNRI, BeOpen.com, Zope Corporation and a cast of thousands\n",
       "      for supporting Python development.  See www.python.org for more information.,\n",
       "  'license': Type license() to see the full license text,\n",
       "  'help': Type help() for interactive help, or help(object) for help about object.,\n",
       "  '__IPYTHON__': True,\n",
       "  'display': <function IPython.core.display.display(*objs, include=None, exclude=None, metadata=None, transient=None, display_id=None, **kwargs)>,\n",
       "  'get_ipython': <bound method InteractiveShell.get_ipython of <ipykernel.zmqshell.ZMQInteractiveShell object at 0x7ffa171d40f0>>},\n",
       " 'absolute_import': _Feature((2, 5, 0, 'alpha', 1), (3, 0, 0, 'alpha', 0), 16384),\n",
       " 'logs': <module 'sagemaker.logs' from '/home/ec2-user/anaconda3/envs/python3/lib/python3.6/site-packages/sagemaker/logs.py'>,\n",
       " 'vpc_utils': <module 'sagemaker.vpc_utils' from '/home/ec2-user/anaconda3/envs/python3/lib/python3.6/site-packages/sagemaker/vpc_utils.py'>,\n",
       " 'user_agent': <module 'sagemaker.user_agent' from '/home/ec2-user/anaconda3/envs/python3/lib/python3.6/site-packages/sagemaker/user_agent.py'>,\n",
       " 'utils': <module 'sagemaker.utils' from '/home/ec2-user/anaconda3/envs/python3/lib/python3.6/site-packages/sagemaker/utils.py'>,\n",
       " 'session': <module 'sagemaker.session' from '/home/ec2-user/anaconda3/envs/python3/lib/python3.6/site-packages/sagemaker/session.py'>,\n",
       " 'analytics': <module 'sagemaker.analytics' from '/home/ec2-user/anaconda3/envs/python3/lib/python3.6/site-packages/sagemaker/analytics.py'>,\n",
       " 'fw_utils': <module 'sagemaker.fw_utils' from '/home/ec2-user/anaconda3/envs/python3/lib/python3.6/site-packages/sagemaker/fw_utils.py'>,\n",
       " 'amazon': <module 'sagemaker.amazon' from '/home/ec2-user/anaconda3/envs/python3/lib/python3.6/site-packages/sagemaker/amazon/__init__.py'>,\n",
       " 'local': <module 'sagemaker.local' from '/home/ec2-user/anaconda3/envs/python3/lib/python3.6/site-packages/sagemaker/local/__init__.py'>,\n",
       " 'job': <module 'sagemaker.job' from '/home/ec2-user/anaconda3/envs/python3/lib/python3.6/site-packages/sagemaker/job.py'>,\n",
       " 'transformer': <module 'sagemaker.transformer' from '/home/ec2-user/anaconda3/envs/python3/lib/python3.6/site-packages/sagemaker/transformer.py'>,\n",
       " 'model': <module 'sagemaker.model' from '/home/ec2-user/anaconda3/envs/python3/lib/python3.6/site-packages/sagemaker/model.py'>,\n",
       " 'content_types': <module 'sagemaker.content_types' from '/home/ec2-user/anaconda3/envs/python3/lib/python3.6/site-packages/sagemaker/content_types.py'>,\n",
       " 'predictor': <module 'sagemaker.predictor' from '/home/ec2-user/anaconda3/envs/python3/lib/python3.6/site-packages/sagemaker/predictor.py'>,\n",
       " 'estimator': <module 'sagemaker.estimator' from '/home/ec2-user/anaconda3/envs/python3/lib/python3.6/site-packages/sagemaker/estimator.py'>,\n",
       " 'parameter': <module 'sagemaker.parameter' from '/home/ec2-user/anaconda3/envs/python3/lib/python3.6/site-packages/sagemaker/parameter.py'>,\n",
       " 'KMeans': sagemaker.amazon.kmeans.KMeans,\n",
       " 'KMeansModel': sagemaker.amazon.kmeans.KMeansModel,\n",
       " 'KMeansPredictor': sagemaker.amazon.kmeans.KMeansPredictor,\n",
       " 'PCA': sagemaker.amazon.pca.PCA,\n",
       " 'PCAModel': sagemaker.amazon.pca.PCAModel,\n",
       " 'PCAPredictor': sagemaker.amazon.pca.PCAPredictor,\n",
       " 'LDA': sagemaker.amazon.lda.LDA,\n",
       " 'LDAModel': sagemaker.amazon.lda.LDAModel,\n",
       " 'LDAPredictor': sagemaker.amazon.lda.LDAPredictor,\n",
       " 'LinearLearner': sagemaker.amazon.linear_learner.LinearLearner,\n",
       " 'LinearLearnerModel': sagemaker.amazon.linear_learner.LinearLearnerModel,\n",
       " 'LinearLearnerPredictor': sagemaker.amazon.linear_learner.LinearLearnerPredictor,\n",
       " 'FactorizationMachines': sagemaker.amazon.factorization_machines.FactorizationMachines,\n",
       " 'FactorizationMachinesModel': sagemaker.amazon.factorization_machines.FactorizationMachinesModel,\n",
       " 'FactorizationMachinesPredictor': sagemaker.amazon.factorization_machines.FactorizationMachinesPredictor,\n",
       " 'NTM': sagemaker.amazon.ntm.NTM,\n",
       " 'NTMModel': sagemaker.amazon.ntm.NTMModel,\n",
       " 'NTMPredictor': sagemaker.amazon.ntm.NTMPredictor,\n",
       " 'RandomCutForest': sagemaker.amazon.randomcutforest.RandomCutForest,\n",
       " 'RandomCutForestModel': sagemaker.amazon.randomcutforest.RandomCutForestModel,\n",
       " 'RandomCutForestPredictor': sagemaker.amazon.randomcutforest.RandomCutForestPredictor,\n",
       " 'KNN': sagemaker.amazon.knn.KNN,\n",
       " 'KNNModel': sagemaker.amazon.knn.KNNModel,\n",
       " 'KNNPredictor': sagemaker.amazon.knn.KNNPredictor,\n",
       " 'Object2Vec': sagemaker.amazon.object2vec.Object2Vec,\n",
       " 'Object2VecModel': sagemaker.amazon.object2vec.Object2VecModel,\n",
       " 'IPInsights': sagemaker.amazon.ipinsights.IPInsights,\n",
       " 'IPInsightsModel': sagemaker.amazon.ipinsights.IPInsightsModel,\n",
       " 'IPInsightsPredictor': sagemaker.amazon.ipinsights.IPInsightsPredictor,\n",
       " 'algorithm': <module 'sagemaker.algorithm' from '/home/ec2-user/anaconda3/envs/python3/lib/python3.6/site-packages/sagemaker/algorithm.py'>,\n",
       " 'AlgorithmEstimator': sagemaker.algorithm.AlgorithmEstimator,\n",
       " 'TrainingJobAnalytics': sagemaker.analytics.TrainingJobAnalytics,\n",
       " 'HyperparameterTuningJobAnalytics': sagemaker.analytics.HyperparameterTuningJobAnalytics,\n",
       " 'LocalSession': sagemaker.local.local_session.LocalSession,\n",
       " 'Model': sagemaker.model.Model,\n",
       " 'ModelPackage': sagemaker.model.ModelPackage,\n",
       " 'pipeline': <module 'sagemaker.pipeline' from '/home/ec2-user/anaconda3/envs/python3/lib/python3.6/site-packages/sagemaker/pipeline.py'>,\n",
       " 'PipelineModel': sagemaker.pipeline.PipelineModel,\n",
       " 'RealTimePredictor': sagemaker.predictor.RealTimePredictor,\n",
       " 'Session': sagemaker.session.Session,\n",
       " 'container_def': <function sagemaker.session.container_def(image, model_data_url=None, env=None)>,\n",
       " 'pipeline_container_def': <function sagemaker.session.pipeline_container_def(models, instance_type=None)>,\n",
       " 'production_variant': <function sagemaker.session.production_variant(model_name, instance_type, initial_instance_count=1, variant_name='AllTraffic', initial_weight=1, accelerator_type=None)>,\n",
       " 's3_input': sagemaker.session.s3_input,\n",
       " 'get_execution_role': <function sagemaker.session.get_execution_role(sagemaker_session=None)>,\n",
       " '__version__': '1.16.2'}"
      ]
     },
     "execution_count": 16,
     "metadata": {},
     "output_type": "execute_result"
    }
   ],
   "source": [
    "sagemaker.__dict__"
   ]
  },
  {
   "cell_type": "code",
   "execution_count": 20,
   "metadata": {},
   "outputs": [
    {
     "data": {
      "text/plain": [
       "module"
      ]
     },
     "execution_count": 20,
     "metadata": {},
     "output_type": "execute_result"
    }
   ],
   "source": [
    "type(sagemaker)"
   ]
  },
  {
   "cell_type": "code",
   "execution_count": 21,
   "metadata": {},
   "outputs": [
    {
     "name": "stdout",
     "output_type": "stream",
     "text": [
      "kmeans-lowlevel-2018-12-20-18-40-56\n",
      "arn:aws:sagemaker:eu-central-1:710551559883:model/kmeans-lowlevel-2018-12-20-18-40-56\n",
      "CPU times: user 22.9 ms, sys: 103 µs, total: 23 ms\n",
      "Wall time: 364 ms\n"
     ]
    }
   ],
   "source": [
    "%%time\n",
    "import boto3\n",
    "from time import gmtime, strftime\n",
    "\n",
    "\n",
    "model_name = job_name\n",
    "print(model_name)\n",
    "sagemaker = boto3.client('sagemaker')  #clash with module name\n",
    "info = sagemaker.describe_training_job(TrainingJobName=job_name)\n",
    "model_data = info['ModelArtifacts']['S3ModelArtifacts']\n",
    "\n",
    "primary_container = {\n",
    "    'Image': image,\n",
    "    'ModelDataUrl': model_data\n",
    "}\n",
    "\n",
    "create_model_response = sagemaker.create_model(\n",
    "    ModelName = model_name,\n",
    "    ExecutionRoleArn = role,\n",
    "    PrimaryContainer = primary_container)\n",
    "\n",
    "print(create_model_response['ModelArn'])"
   ]
  },
  {
   "cell_type": "code",
   "execution_count": 23,
   "metadata": {},
   "outputs": [
    {
     "name": "stdout",
     "output_type": "stream",
     "text": [
      "Created Transform job with name:  Batch-Transform-2018-12-20-19-52-38\n",
      "Transform job is still in status: InProgress\n",
      "Transform job is still in status: InProgress\n",
      "Transform job is still in status: InProgress\n",
      "Transform job is still in status: InProgress\n",
      "Transform job is still in status: InProgress\n",
      "Transform job is still in status: InProgress\n",
      "Transform job is still in status: InProgress\n",
      "Transform job is still in status: InProgress\n",
      "Transform job ended with status: Completed\n",
      "Sample transform result: {\"closest_cluster\":6.0,\"distance_to_cluster\":5.865166187286377}\n",
      "\n"
     ]
    }
   ],
   "source": [
    "\n",
    "import boto3\n",
    "import sagemaker\n",
    "import json\n",
    "import time\n",
    "from urllib.parse import urlparse\n",
    "from time import gmtime, strftime\n",
    "\n",
    "batch_job_name = 'Batch-Transform-' + strftime(\"%Y-%m-%d-%H-%M-%S\", gmtime())\n",
    "input_location = 's3://{}/kmeans_batch_example/input'.format(bucket)\n",
    "output_location = 's3://{}/kmeans_batch_example/output'.format(bucket)\n",
    "\n",
    "### Convert the validation set numpy array to a csv file and upload to s3\n",
    "numpy.savetxt('valid-data.csv', valid_set[0], delimiter=',', fmt='%g')\n",
    "s3_client = boto3.client('s3')\n",
    "input_key = \"{}/valid_data.csv\".format(urlparse(input_location).path.lstrip('/'))\n",
    "s3_client.upload_file('valid-data.csv', bucket, input_key)\n",
    "\n",
    "### Create a transform job\n",
    "sm = boto3.client('sagemaker')\n",
    "\n",
    "request = \\\n",
    "{\n",
    "    \"TransformJobName\": batch_job_name,\n",
    "    \"ModelName\": model_name,\n",
    "    \"MaxConcurrentTransforms\": 4,\n",
    "    \"MaxPayloadInMB\": 6,\n",
    "    \"BatchStrategy\": \"MultiRecord\",\n",
    "    \"TransformOutput\": {\n",
    "        \"S3OutputPath\": output_location\n",
    "    },\n",
    "    \"TransformInput\": {\n",
    "        \"DataSource\": {\n",
    "            \"S3DataSource\": {\n",
    "                \"S3DataType\": \"S3Prefix\",\n",
    "                \"S3Uri\": input_location \n",
    "            }\n",
    "        },\n",
    "        \"ContentType\": \"text/csv\",\n",
    "        \"SplitType\": \"Line\",\n",
    "        \"CompressionType\": \"None\"\n",
    "    },\n",
    "    \"TransformResources\": {\n",
    "            \"InstanceType\": \"ml.m4.xlarge\",\n",
    "            \"InstanceCount\": 1\n",
    "    }\n",
    "}\n",
    "\n",
    "sm.create_transform_job(**request)\n",
    "\n",
    "print(\"Created Transform job with name: \", batch_job_name)\n",
    "\n",
    "### Wait until job completion\n",
    "while(True):\n",
    "    response = sm.describe_transform_job(TransformJobName=batch_job_name)\n",
    "    status = response['TransformJobStatus']\n",
    "    if  status == 'Completed':\n",
    "        print(\"Transform job ended with status: \" + status)\n",
    "        break\n",
    "    if status == 'Failed':\n",
    "        message = response['FailureReason']\n",
    "        print('Transform failed with the following error: {}'.format(message))\n",
    "        raise Exception('Transform job failed') \n",
    "    print(\"Transform job is still in status: \" + status)    \n",
    "    time.sleep(30)    \n",
    "\n",
    "### Fetch transform output\n",
    "output_key = \"{}/valid_data.csv.out\".format(urlparse(output_location).path.lstrip('/'))\n",
    "s3_client.download_file(bucket, output_key, 'valid-result')\n",
    "with open('valid-result') as f:\n",
    "    results = f.readlines()   \n",
    "print(\"Sample transform result: {}\".format(results[0]))\n",
    "\n",
    "                        "
   ]
  },
  {
   "cell_type": "code",
   "execution_count": 24,
   "metadata": {},
   "outputs": [
    {
     "name": "stdout",
     "output_type": "stream",
     "text": [
      "On branch master\r\n",
      "Your branch is up-to-date with 'origin/master'.\r\n",
      "\r\n",
      "Untracked files:\r\n",
      "  (use \"git add <file>...\" to include in what will be committed)\r\n",
      "\r\n",
      "\t\u001b[31m./\u001b[m\r\n",
      "\r\n",
      "nothing added to commit but untracked files present (use \"git add\" to track)\r\n"
     ]
    }
   ],
   "source": [
    "!git status"
   ]
  },
  {
   "cell_type": "code",
   "execution_count": 25,
   "metadata": {},
   "outputs": [
    {
     "name": "stdout",
     "output_type": "stream",
     "text": [
      "git: 'ls' is not a git command. See 'git --help'.\r\n",
      "\r\n",
      "The most similar command is\r\n",
      "\tlog\r\n"
     ]
    }
   ],
   "source": [
    "!git ls"
   ]
  },
  {
   "cell_type": "code",
   "execution_count": 26,
   "metadata": {},
   "outputs": [
    {
     "name": "stdout",
     "output_type": "stream",
     "text": [
      "mnist.ipynb  mnist.pkl.gz  Untitled.ipynb  valid-data.csv  valid-result\r\n"
     ]
    }
   ],
   "source": [
    "!ls"
   ]
  },
  {
   "cell_type": "code",
   "execution_count": null,
   "metadata": {},
   "outputs": [],
   "source": [
    "!git add mnist.ipynb"
   ]
  }
 ],
 "metadata": {
  "kernelspec": {
   "display_name": "conda_python3",
   "language": "python",
   "name": "conda_python3"
  },
  "language_info": {
   "codemirror_mode": {
    "name": "ipython",
    "version": 3
   },
   "file_extension": ".py",
   "mimetype": "text/x-python",
   "name": "python",
   "nbconvert_exporter": "python",
   "pygments_lexer": "ipython3",
   "version": "3.6.5"
  }
 },
 "nbformat": 4,
 "nbformat_minor": 2
}
